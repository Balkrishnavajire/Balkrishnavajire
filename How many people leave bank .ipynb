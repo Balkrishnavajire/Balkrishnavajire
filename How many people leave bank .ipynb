{
  "nbformat": 4,
  "nbformat_minor": 0,
  "metadata": {
    "colab": {
      "name": "BANK.ipynb",
      "provenance": [],
      "collapsed_sections": [],
      "authorship_tag": "ABX9TyPKSOYksoOFTrY0/onGGCH2",
      "include_colab_link": true
    },
    "kernelspec": {
      "name": "python3",
      "display_name": "Python 3"
    },
    "language_info": {
      "name": "python"
    },
    "accelerator": "GPU"
  },
  "cells": [
    {
      "cell_type": "markdown",
      "metadata": {
        "id": "view-in-github",
        "colab_type": "text"
      },
      "source": [
        "<a href=\"https://colab.research.google.com/github/Balkrishnavajire/Balkrishnavajire/blob/main/How%20many%20people%20leave%20bank%20.ipynb\" target=\"_parent\"><img src=\"https://colab.research.google.com/assets/colab-badge.svg\" alt=\"Open In Colab\"/></a>"
      ]
    },
    {
      "cell_type": "markdown",
      "metadata": {
        "id": "oA5v2Sk-B3AF"
      },
      "source": [
        "### #Importing the required libraries"
      ]
    },
    {
      "cell_type": "code",
      "metadata": {
        "id": "JvNE3X8c4Bs1"
      },
      "source": [
        "import keras \n",
        "from keras.layers import Dense\n",
        "from keras.models import Sequential\n",
        "import numpy as np\n",
        "import pandas as pd\n",
        "from sklearn.preprocessing import StandardScaler\n",
        "from sklearn.preprocessing import LabelEncoder\n",
        "from sklearn.preprocessing import OneHotEncoder\n",
        "from sklearn.metrics import confusion_matrix,accuracy_score\n",
        "from keras.wrappers.scikit_learn import KerasClassifier\n",
        "from sklearn.model_selection import cross_val_score\n",
        "from sklearn.model_selection import train_test_split\n",
        "import matplotlib.pyplot as plt"
      ],
      "execution_count": 2,
      "outputs": []
    },
    {
      "cell_type": "code",
      "metadata": {
        "colab": {
          "base_uri": "https://localhost:8080/"
        },
        "id": "8vo7dxY76iOe",
        "outputId": "5938fadc-9ccb-44aa-e2e5-dfb76b26bc70"
      },
      "source": [
        "pip install -U scikit-learn==0.20"
      ],
      "execution_count": 1,
      "outputs": [
        {
          "output_type": "stream",
          "text": [
            "Collecting scikit-learn==0.20\n",
            "  Downloading scikit_learn-0.20.0-cp37-cp37m-manylinux1_x86_64.whl (5.3 MB)\n",
            "\u001b[K     |████████████████████████████████| 5.3 MB 11.7 MB/s \n",
            "\u001b[?25hRequirement already satisfied: scipy>=0.13.3 in /usr/local/lib/python3.7/dist-packages (from scikit-learn==0.20) (1.4.1)\n",
            "Requirement already satisfied: numpy>=1.8.2 in /usr/local/lib/python3.7/dist-packages (from scikit-learn==0.20) (1.19.5)\n",
            "Installing collected packages: scikit-learn\n",
            "  Attempting uninstall: scikit-learn\n",
            "    Found existing installation: scikit-learn 0.22.2.post1\n",
            "    Uninstalling scikit-learn-0.22.2.post1:\n",
            "      Successfully uninstalled scikit-learn-0.22.2.post1\n",
            "Successfully installed scikit-learn-0.20.0\n"
          ],
          "name": "stdout"
        }
      ]
    },
    {
      "cell_type": "markdown",
      "metadata": {
        "id": "-di4vUY1COca"
      },
      "source": [
        "### #Importing the dataset"
      ]
    },
    {
      "cell_type": "code",
      "metadata": {
        "id": "ZEO8Z-aB4Bvh"
      },
      "source": [
        "dataset=pd.read_csv(\"Churn_Modelling.csv\")\n",
        "X=dataset.iloc[:,3:13].values\n",
        "y=dataset.iloc[:,13].values"
      ],
      "execution_count": 3,
      "outputs": []
    },
    {
      "cell_type": "code",
      "metadata": {
        "id": "h5B36SRZX39c"
      },
      "source": [
        ""
      ],
      "execution_count": null,
      "outputs": []
    },
    {
      "cell_type": "code",
      "metadata": {
        "colab": {
          "base_uri": "https://localhost:8080/"
        },
        "id": "_2OjdCqF4ByU",
        "outputId": "38242721-626b-4795-ed1b-abb43d07a5f3"
      },
      "source": [
        "labelencoder_X_1=LabelEncoder()\n",
        "labelencoder=LabelEncoder()\n",
        "X[:,2]=labelencoder.fit_transform(X[:,2])\n",
        "X[:,1]=labelencoder_X_1.fit_transform(X[:,1])\n",
        "onehotencoder=OneHotEncoder(categorical_features=[1])\n",
        "X=onehotencoder.fit_transform(X).toarray()\n",
        "X=X[:,1:] "
      ],
      "execution_count": 4,
      "outputs": [
        {
          "output_type": "stream",
          "text": [
            "/usr/local/lib/python3.7/dist-packages/sklearn/preprocessing/_encoders.py:363: FutureWarning: The handling of integer data will change in version 0.22. Currently, the categories are determined based on the range [0, max(values)], while in the future they will be determined based on the unique values.\n",
            "If you want the future behaviour and silence this warning, you can specify \"categories='auto'\".\n",
            "In case you used a LabelEncoder before this OneHotEncoder to convert the categories to integers, then you can now use the OneHotEncoder directly.\n",
            "  warnings.warn(msg, FutureWarning)\n",
            "/usr/local/lib/python3.7/dist-packages/sklearn/preprocessing/_encoders.py:385: DeprecationWarning: The 'categorical_features' keyword is deprecated in version 0.20 and will be removed in 0.22. You can use the ColumnTransformer instead.\n",
            "  \"use the ColumnTransformer instead.\", DeprecationWarning)\n"
          ],
          "name": "stderr"
        }
      ]
    },
    {
      "cell_type": "markdown",
      "metadata": {
        "id": "6_dxVlfzCUsA"
      },
      "source": [
        "### #Splitting the dataset into the training set and test set"
      ]
    },
    {
      "cell_type": "code",
      "metadata": {
        "id": "T5Wmy-DB4B1i"
      },
      "source": [
        "X_train,X_test,y_train,y_test=train_test_split(X,y,test_size=0.2,random_state=0)"
      ],
      "execution_count": 5,
      "outputs": []
    },
    {
      "cell_type": "markdown",
      "metadata": {
        "id": "CuDzF8j8Cco_"
      },
      "source": [
        "### #Feature Scaling the variables"
      ]
    },
    {
      "cell_type": "code",
      "metadata": {
        "id": "xWOCXbFE4B4G"
      },
      "source": [
        "sc=StandardScaler()\n",
        "X_train=sc.fit_transform(X_train)\n",
        "X_test=sc.transform(X_test)"
      ],
      "execution_count": 6,
      "outputs": []
    },
    {
      "cell_type": "markdown",
      "metadata": {
        "id": "uX4fZJ4gCl80"
      },
      "source": [
        "### #Initialising the ANN"
      ]
    },
    {
      "cell_type": "code",
      "metadata": {
        "id": "_GpipnMD4B6Z"
      },
      "source": [
        "classifier=Sequential()"
      ],
      "execution_count": 7,
      "outputs": []
    },
    {
      "cell_type": "markdown",
      "metadata": {
        "id": "YQMUIvsACqDo"
      },
      "source": [
        "### #Adding input and first hidden layer"
      ]
    },
    {
      "cell_type": "code",
      "metadata": {
        "id": "gVWtWRGD4B89"
      },
      "source": [
        "classifier.add(Dense(6, kernel_initializer='he_uniform', activation='relu', input_shape=(11,)))"
      ],
      "execution_count": 8,
      "outputs": []
    },
    {
      "cell_type": "markdown",
      "metadata": {
        "id": "btPZWgxhCtAi"
      },
      "source": [
        "### #Adding the second hidden layer "
      ]
    },
    {
      "cell_type": "code",
      "metadata": {
        "id": "JoXnECpz4B_h"
      },
      "source": [
        "\n",
        "classifier.add(Dense(11,kernel_initializer = 'uniform', activation = 'relu'))"
      ],
      "execution_count": 9,
      "outputs": []
    },
    {
      "cell_type": "markdown",
      "metadata": {
        "id": "m87LYfwSCv64"
      },
      "source": [
        "### #Adding the output_layer"
      ]
    },
    {
      "cell_type": "code",
      "metadata": {
        "id": "tEWfGiYODjkV"
      },
      "source": [
        "classifier.add(Dense(1,kernel_initializer='uniform',activation='sigmoid'))"
      ],
      "execution_count": 10,
      "outputs": []
    },
    {
      "cell_type": "markdown",
      "metadata": {
        "id": "TRw-joXcDkJN"
      },
      "source": [
        "### #compiling the ANN"
      ]
    },
    {
      "cell_type": "code",
      "metadata": {
        "id": "ZPNe6yxg4CGn"
      },
      "source": [
        "classifier.compile(optimizer='adam',loss='binary_crossentropy',metrics=['accuracy'])"
      ],
      "execution_count": 11,
      "outputs": []
    },
    {
      "cell_type": "markdown",
      "metadata": {
        "id": "i7yul-AlDvUq"
      },
      "source": [
        "### #Fitting the ANN to the training set"
      ]
    },
    {
      "cell_type": "code",
      "metadata": {
        "colab": {
          "base_uri": "https://localhost:8080/"
        },
        "id": "DWafIEHJ4CJo",
        "outputId": "7e14b865-7bfb-4612-ba69-dad189321a60"
      },
      "source": [
        "classifier.fit(X_train,y_train,batch_size=10,epochs=100)"
      ],
      "execution_count": 12,
      "outputs": [
        {
          "output_type": "stream",
          "text": [
            "Epoch 1/100\n",
            "800/800 [==============================] - 5s 2ms/step - loss: 0.4873 - accuracy: 0.7929\n",
            "Epoch 2/100\n",
            "800/800 [==============================] - 2s 2ms/step - loss: 0.4383 - accuracy: 0.7960\n",
            "Epoch 3/100\n",
            "800/800 [==============================] - 2s 2ms/step - loss: 0.4327 - accuracy: 0.7960\n",
            "Epoch 4/100\n",
            "800/800 [==============================] - 2s 2ms/step - loss: 0.4297 - accuracy: 0.7960\n",
            "Epoch 5/100\n",
            "800/800 [==============================] - 2s 2ms/step - loss: 0.4267 - accuracy: 0.8065\n",
            "Epoch 6/100\n",
            "800/800 [==============================] - 2s 2ms/step - loss: 0.4235 - accuracy: 0.8175\n",
            "Epoch 7/100\n",
            "800/800 [==============================] - 2s 2ms/step - loss: 0.4212 - accuracy: 0.8207\n",
            "Epoch 8/100\n",
            "800/800 [==============================] - 2s 2ms/step - loss: 0.4189 - accuracy: 0.8254\n",
            "Epoch 9/100\n",
            "800/800 [==============================] - 2s 2ms/step - loss: 0.4173 - accuracy: 0.8256\n",
            "Epoch 10/100\n",
            "800/800 [==============================] - 2s 2ms/step - loss: 0.4157 - accuracy: 0.8292\n",
            "Epoch 11/100\n",
            "800/800 [==============================] - 2s 2ms/step - loss: 0.4141 - accuracy: 0.8321\n",
            "Epoch 12/100\n",
            "800/800 [==============================] - 2s 2ms/step - loss: 0.4132 - accuracy: 0.8319\n",
            "Epoch 13/100\n",
            "800/800 [==============================] - 2s 2ms/step - loss: 0.4114 - accuracy: 0.8329\n",
            "Epoch 14/100\n",
            "800/800 [==============================] - 2s 2ms/step - loss: 0.4103 - accuracy: 0.8335\n",
            "Epoch 15/100\n",
            "800/800 [==============================] - 2s 2ms/step - loss: 0.4090 - accuracy: 0.8339\n",
            "Epoch 16/100\n",
            "800/800 [==============================] - 2s 2ms/step - loss: 0.4085 - accuracy: 0.8339\n",
            "Epoch 17/100\n",
            "800/800 [==============================] - 2s 2ms/step - loss: 0.4079 - accuracy: 0.8334\n",
            "Epoch 18/100\n",
            "800/800 [==============================] - 2s 2ms/step - loss: 0.4069 - accuracy: 0.8331\n",
            "Epoch 19/100\n",
            "800/800 [==============================] - 2s 2ms/step - loss: 0.4067 - accuracy: 0.8346\n",
            "Epoch 20/100\n",
            "800/800 [==============================] - 2s 2ms/step - loss: 0.4059 - accuracy: 0.8345\n",
            "Epoch 21/100\n",
            "800/800 [==============================] - 2s 2ms/step - loss: 0.4054 - accuracy: 0.8344\n",
            "Epoch 22/100\n",
            "800/800 [==============================] - 2s 2ms/step - loss: 0.4049 - accuracy: 0.8346\n",
            "Epoch 23/100\n",
            "800/800 [==============================] - 2s 2ms/step - loss: 0.4044 - accuracy: 0.8353\n",
            "Epoch 24/100\n",
            "800/800 [==============================] - 2s 2ms/step - loss: 0.4037 - accuracy: 0.8346\n",
            "Epoch 25/100\n",
            "800/800 [==============================] - 2s 2ms/step - loss: 0.4035 - accuracy: 0.8351\n",
            "Epoch 26/100\n",
            "800/800 [==============================] - 2s 2ms/step - loss: 0.4031 - accuracy: 0.8366\n",
            "Epoch 27/100\n",
            "800/800 [==============================] - 2s 2ms/step - loss: 0.4028 - accuracy: 0.8344\n",
            "Epoch 28/100\n",
            "800/800 [==============================] - 2s 2ms/step - loss: 0.4023 - accuracy: 0.8353\n",
            "Epoch 29/100\n",
            "800/800 [==============================] - 2s 2ms/step - loss: 0.4022 - accuracy: 0.8360\n",
            "Epoch 30/100\n",
            "800/800 [==============================] - 2s 2ms/step - loss: 0.4018 - accuracy: 0.8365\n",
            "Epoch 31/100\n",
            "800/800 [==============================] - 2s 2ms/step - loss: 0.4016 - accuracy: 0.8372\n",
            "Epoch 32/100\n",
            "800/800 [==============================] - 2s 2ms/step - loss: 0.4017 - accuracy: 0.8371\n",
            "Epoch 33/100\n",
            "800/800 [==============================] - 2s 2ms/step - loss: 0.4010 - accuracy: 0.8367\n",
            "Epoch 34/100\n",
            "800/800 [==============================] - 2s 2ms/step - loss: 0.4005 - accuracy: 0.8364\n",
            "Epoch 35/100\n",
            "800/800 [==============================] - 2s 2ms/step - loss: 0.4003 - accuracy: 0.8364\n",
            "Epoch 36/100\n",
            "800/800 [==============================] - 2s 2ms/step - loss: 0.4008 - accuracy: 0.8370\n",
            "Epoch 37/100\n",
            "800/800 [==============================] - 2s 2ms/step - loss: 0.4008 - accuracy: 0.8372\n",
            "Epoch 38/100\n",
            "800/800 [==============================] - 2s 2ms/step - loss: 0.3995 - accuracy: 0.8372\n",
            "Epoch 39/100\n",
            "800/800 [==============================] - 2s 2ms/step - loss: 0.4002 - accuracy: 0.8369\n",
            "Epoch 40/100\n",
            "800/800 [==============================] - 2s 2ms/step - loss: 0.3992 - accuracy: 0.8357\n",
            "Epoch 41/100\n",
            "800/800 [==============================] - 2s 2ms/step - loss: 0.4000 - accuracy: 0.8365\n",
            "Epoch 42/100\n",
            "800/800 [==============================] - 2s 2ms/step - loss: 0.4000 - accuracy: 0.8370\n",
            "Epoch 43/100\n",
            "800/800 [==============================] - 2s 2ms/step - loss: 0.3998 - accuracy: 0.8371\n",
            "Epoch 44/100\n",
            "800/800 [==============================] - 2s 2ms/step - loss: 0.3996 - accuracy: 0.8376\n",
            "Epoch 45/100\n",
            "800/800 [==============================] - 2s 2ms/step - loss: 0.3999 - accuracy: 0.8365\n",
            "Epoch 46/100\n",
            "800/800 [==============================] - 2s 2ms/step - loss: 0.3993 - accuracy: 0.8359\n",
            "Epoch 47/100\n",
            "800/800 [==============================] - 2s 2ms/step - loss: 0.3996 - accuracy: 0.8380\n",
            "Epoch 48/100\n",
            "800/800 [==============================] - 2s 2ms/step - loss: 0.3991 - accuracy: 0.8365\n",
            "Epoch 49/100\n",
            "800/800 [==============================] - 2s 2ms/step - loss: 0.3996 - accuracy: 0.8381\n",
            "Epoch 50/100\n",
            "800/800 [==============================] - 2s 2ms/step - loss: 0.3990 - accuracy: 0.8365\n",
            "Epoch 51/100\n",
            "800/800 [==============================] - 2s 2ms/step - loss: 0.3990 - accuracy: 0.8366\n",
            "Epoch 52/100\n",
            "800/800 [==============================] - 2s 2ms/step - loss: 0.3990 - accuracy: 0.8361\n",
            "Epoch 53/100\n",
            "800/800 [==============================] - 2s 2ms/step - loss: 0.3985 - accuracy: 0.8382\n",
            "Epoch 54/100\n",
            "800/800 [==============================] - 2s 2ms/step - loss: 0.3990 - accuracy: 0.8371\n",
            "Epoch 55/100\n",
            "800/800 [==============================] - 2s 2ms/step - loss: 0.3989 - accuracy: 0.8365\n",
            "Epoch 56/100\n",
            "800/800 [==============================] - 2s 2ms/step - loss: 0.3989 - accuracy: 0.8376\n",
            "Epoch 57/100\n",
            "800/800 [==============================] - 2s 2ms/step - loss: 0.3984 - accuracy: 0.8381\n",
            "Epoch 58/100\n",
            "800/800 [==============================] - 2s 2ms/step - loss: 0.3985 - accuracy: 0.8378\n",
            "Epoch 59/100\n",
            "800/800 [==============================] - 2s 2ms/step - loss: 0.3986 - accuracy: 0.8381\n",
            "Epoch 60/100\n",
            "800/800 [==============================] - 2s 2ms/step - loss: 0.3985 - accuracy: 0.8372\n",
            "Epoch 61/100\n",
            "800/800 [==============================] - 2s 2ms/step - loss: 0.3980 - accuracy: 0.8367\n",
            "Epoch 62/100\n",
            "800/800 [==============================] - 2s 2ms/step - loss: 0.3979 - accuracy: 0.8389\n",
            "Epoch 63/100\n",
            "800/800 [==============================] - 2s 2ms/step - loss: 0.3979 - accuracy: 0.8363\n",
            "Epoch 64/100\n",
            "800/800 [==============================] - 2s 2ms/step - loss: 0.3978 - accuracy: 0.8364\n",
            "Epoch 65/100\n",
            "800/800 [==============================] - 2s 2ms/step - loss: 0.3977 - accuracy: 0.8366\n",
            "Epoch 66/100\n",
            "800/800 [==============================] - 2s 2ms/step - loss: 0.3975 - accuracy: 0.8386\n",
            "Epoch 67/100\n",
            "800/800 [==============================] - 2s 2ms/step - loss: 0.3972 - accuracy: 0.8367\n",
            "Epoch 68/100\n",
            "800/800 [==============================] - 2s 2ms/step - loss: 0.3970 - accuracy: 0.8364\n",
            "Epoch 69/100\n",
            "800/800 [==============================] - 2s 2ms/step - loss: 0.3975 - accuracy: 0.8369\n",
            "Epoch 70/100\n",
            "800/800 [==============================] - 2s 2ms/step - loss: 0.3969 - accuracy: 0.8382\n",
            "Epoch 71/100\n",
            "800/800 [==============================] - 2s 2ms/step - loss: 0.3962 - accuracy: 0.8384\n",
            "Epoch 72/100\n",
            "800/800 [==============================] - 2s 2ms/step - loss: 0.3969 - accuracy: 0.8365\n",
            "Epoch 73/100\n",
            "800/800 [==============================] - 2s 2ms/step - loss: 0.3956 - accuracy: 0.8380\n",
            "Epoch 74/100\n",
            "800/800 [==============================] - 2s 2ms/step - loss: 0.3965 - accuracy: 0.8363\n",
            "Epoch 75/100\n",
            "800/800 [==============================] - 2s 2ms/step - loss: 0.3959 - accuracy: 0.8376\n",
            "Epoch 76/100\n",
            "800/800 [==============================] - 2s 2ms/step - loss: 0.3955 - accuracy: 0.8370\n",
            "Epoch 77/100\n",
            "800/800 [==============================] - 2s 2ms/step - loss: 0.3957 - accuracy: 0.8349\n",
            "Epoch 78/100\n",
            "800/800 [==============================] - 2s 2ms/step - loss: 0.3952 - accuracy: 0.8369\n",
            "Epoch 79/100\n",
            "800/800 [==============================] - 2s 2ms/step - loss: 0.3954 - accuracy: 0.8369\n",
            "Epoch 80/100\n",
            "800/800 [==============================] - 2s 2ms/step - loss: 0.3947 - accuracy: 0.8369\n",
            "Epoch 81/100\n",
            "800/800 [==============================] - 2s 2ms/step - loss: 0.3951 - accuracy: 0.8379\n",
            "Epoch 82/100\n",
            "800/800 [==============================] - 2s 2ms/step - loss: 0.3948 - accuracy: 0.8374\n",
            "Epoch 83/100\n",
            "800/800 [==============================] - 2s 2ms/step - loss: 0.3944 - accuracy: 0.8371\n",
            "Epoch 84/100\n",
            "800/800 [==============================] - 2s 2ms/step - loss: 0.3952 - accuracy: 0.8371\n",
            "Epoch 85/100\n",
            "800/800 [==============================] - 2s 2ms/step - loss: 0.3948 - accuracy: 0.8369\n",
            "Epoch 86/100\n",
            "800/800 [==============================] - 2s 2ms/step - loss: 0.3948 - accuracy: 0.8363\n",
            "Epoch 87/100\n",
            "800/800 [==============================] - 2s 2ms/step - loss: 0.3947 - accuracy: 0.8375\n",
            "Epoch 88/100\n",
            "800/800 [==============================] - 2s 2ms/step - loss: 0.3948 - accuracy: 0.8378\n",
            "Epoch 89/100\n",
            "800/800 [==============================] - 2s 2ms/step - loss: 0.3947 - accuracy: 0.8379\n",
            "Epoch 90/100\n",
            "800/800 [==============================] - 2s 2ms/step - loss: 0.3944 - accuracy: 0.8359\n",
            "Epoch 91/100\n",
            "800/800 [==============================] - 2s 2ms/step - loss: 0.3942 - accuracy: 0.8376\n",
            "Epoch 92/100\n",
            "800/800 [==============================] - 2s 2ms/step - loss: 0.3945 - accuracy: 0.8380\n",
            "Epoch 93/100\n",
            "800/800 [==============================] - 2s 2ms/step - loss: 0.3941 - accuracy: 0.8360\n",
            "Epoch 94/100\n",
            "800/800 [==============================] - 2s 2ms/step - loss: 0.3934 - accuracy: 0.8357\n",
            "Epoch 95/100\n",
            "800/800 [==============================] - 2s 2ms/step - loss: 0.3936 - accuracy: 0.8380\n",
            "Epoch 96/100\n",
            "800/800 [==============================] - 2s 2ms/step - loss: 0.3938 - accuracy: 0.8376\n",
            "Epoch 97/100\n",
            "800/800 [==============================] - 2s 2ms/step - loss: 0.3935 - accuracy: 0.8382\n",
            "Epoch 98/100\n",
            "800/800 [==============================] - 2s 2ms/step - loss: 0.3935 - accuracy: 0.8394\n",
            "Epoch 99/100\n",
            "800/800 [==============================] - 2s 2ms/step - loss: 0.3933 - accuracy: 0.8388\n",
            "Epoch 100/100\n",
            "800/800 [==============================] - 2s 2ms/step - loss: 0.3940 - accuracy: 0.8375\n"
          ],
          "name": "stdout"
        },
        {
          "output_type": "execute_result",
          "data": {
            "text/plain": [
              "<keras.callbacks.History at 0x7fd5100caad0>"
            ]
          },
          "metadata": {
            "tags": []
          },
          "execution_count": 12
        }
      ]
    },
    {
      "cell_type": "markdown",
      "metadata": {
        "id": "2GQqetOlC3Wg"
      },
      "source": [
        "### #Predicting the test set result"
      ]
    },
    {
      "cell_type": "code",
      "metadata": {
        "id": "jobxJyh34CMm"
      },
      "source": [
        "y_pred=classifier.predict(X_test)\n",
        "y_pred=(y_pred > 0.5)\n",
        "y_pred=np.argmax(y_pred, axis=1)"
      ],
      "execution_count": 16,
      "outputs": []
    },
    {
      "cell_type": "markdown",
      "metadata": {
        "id": "-kZMdlxwD6Lr"
      },
      "source": [
        "### #Confusing matrix"
      ]
    },
    {
      "cell_type": "code",
      "metadata": {
        "id": "Xo3wiIf54CO5"
      },
      "source": [
        "cm=confusion_matrix(y_test,y_pred)\n",
        "accuracy=accuracy_score(y_test,y_pred)\n"
      ],
      "execution_count": 18,
      "outputs": []
    },
    {
      "cell_type": "code",
      "metadata": {
        "id": "wB9eWfed-7Op",
        "colab": {
          "base_uri": "https://localhost:8080/"
        },
        "outputId": "b21e12d8-2180-48ef-ec94-3d5aa09d95d4"
      },
      "source": [
        "cm"
      ],
      "execution_count": 19,
      "outputs": [
        {
          "output_type": "execute_result",
          "data": {
            "text/plain": [
              "array([[1595,    0],\n",
              "       [ 405,    0]])"
            ]
          },
          "metadata": {
            "tags": []
          },
          "execution_count": 19
        }
      ]
    },
    {
      "cell_type": "code",
      "metadata": {
        "id": "sU46zdGyYkga",
        "colab": {
          "base_uri": "https://localhost:8080/",
          "height": 281
        },
        "outputId": "40a45971-2eff-4ab4-d6c4-95bbe961441f"
      },
      "source": [
        "plt.imshow(cm, interpolation='nearest', cmap=plt.cm.gray);\n",
        "plt.title('Confusion matrix')\n",
        "plt.colorbar()\n",
        "ticks = np.arange(2)\n",
        "plt.xticks(ticks, ticks)\n",
        "plt.yticks(ticks, ticks)\n",
        "\n",
        "plt.show()"
      ],
      "execution_count": 22,
      "outputs": [
        {
          "output_type": "display_data",
          "data": {
            "image/png": "[encoded data removed]",
            "text/plain": [
              "<Figure size 432x288 with 2 Axes>"
            ]
          },
          "metadata": {
            "tags": [],
            "needs_background": "light"
          }
        }
      ]
    },
    {
      "cell_type": "code",
      "metadata": {
        "id": "WTTQINH9Vn2b"
      },
      "source": [
        ""
      ],
      "execution_count": null,
      "outputs": []
    }
  ]
}